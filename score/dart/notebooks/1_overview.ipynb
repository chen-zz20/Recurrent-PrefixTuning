{
 "cells": [
  {
   "cell_type": "markdown",
   "metadata": {},
   "source": [
    "# DART Overview\n",
    "This notebook provides an interactive interface to the DART dataset."
   ]
  },
  {
   "cell_type": "code",
   "execution_count": 1,
   "metadata": {},
   "outputs": [],
   "source": [
    "%matplotlib inline\n",
    "\n",
    "import json\n",
    "from pathlib import Path\n",
    "from collections import Counter\n",
    "from functools import partial\n",
    "import logging\n",
    "import warnings\n",
    "warnings.filterwarnings(\"ignore\")\n",
    "\n",
    "import pandas as pd\n",
    "import numpy as np\n",
    "import seaborn as sns\n",
    "import matplotlib.pyplot as plt\n",
    "from matplotlib_venn import venn3\n",
    "from nltk.tokenize import word_tokenize, sent_tokenize\n",
    "\n",
    "from dart_nbutils.tree import print_tree, generate_tree"
   ]
  },
  {
   "cell_type": "code",
   "execution_count": 2,
   "metadata": {},
   "outputs": [],
   "source": [
    "DART_VERSION = \"v1.1.1\"\n",
    "SPLITS = ['train', 'dev', 'test']\n",
    "data_dir = Path(f\"../data/{DART_VERSION}\")\n",
    "prefix = f\"dart-{DART_VERSION}\""
   ]
  },
  {
   "cell_type": "code",
   "execution_count": 3,
   "metadata": {},
   "outputs": [],
   "source": [
    "n_unique = lambda x: len(set(x))\n",
    "n_unique_str = lambda x: n_unique([y.upper() for y in x])\n",
    "describe_fns = [np.min, np.median, np.mean, np.max]\n",
    "describe = lambda x: np.round(tuple(f(x) for f in describe_fns), 2)"
   ]
  },
  {
   "cell_type": "code",
   "execution_count": 4,
   "metadata": {},
   "outputs": [],
   "source": [
    "def load_dart(split):\n",
    "    assert split in SPLITS\n",
    "    with open(data_dir / f\"{prefix}-full-{split}.json\") as f:\n",
    "        return json.load(f)"
   ]
  },
  {
   "cell_type": "markdown",
   "metadata": {},
   "source": [
    "### Visualizing RDF trees in DART"
   ]
  },
  {
   "cell_type": "code",
   "execution_count": 5,
   "metadata": {},
   "outputs": [],
   "source": [
    "# Bring the devel set into memory\n",
    "devel = load_dart('dev')"
   ]
  },
  {
   "cell_type": "code",
   "execution_count": 6,
   "metadata": {},
   "outputs": [
    {
     "data": {
      "text/plain": [
       "{'tripleset': [['Mars Hill College', 'JOINED', '1973'],\n",
       "  ['Mars Hill College', 'LOCATION', 'Mars Hill, North Carolina']],\n",
       " 'subtree_was_extended': True,\n",
       " 'annotations': [{'source': 'WikiSQL_decl_sents',\n",
       "   'text': 'A school from Mars Hill, North Carolina, joined in 1973.'}]}"
      ]
     },
     "execution_count": 6,
     "metadata": {},
     "output_type": "execute_result"
    }
   ],
   "source": [
    "# Inspect the first record\n",
    "devel[0]"
   ]
  },
  {
   "cell_type": "code",
   "execution_count": 7,
   "metadata": {},
   "outputs": [
    {
     "name": "stdout",
     "output_type": "stream",
     "text": [
      "Mars Hill College\n",
      "├── JOINED:1973\n",
      "└── LOCATION:Mars Hill, North Carolina\n"
     ]
    }
   ],
   "source": [
    "# Visualize the RDF tree from the first record\n",
    "tree = generate_tree(devel[0])\n",
    "print_tree(tree)"
   ]
  },
  {
   "cell_type": "code",
   "execution_count": 8,
   "metadata": {},
   "outputs": [
    {
     "name": "stdout",
     "output_type": "stream",
     "text": [
      "Abilene Regional Airport\n",
      "└── CITY_SERVED:Abilene, Texas\n",
      "    ├── IS_PART_OF:Taylor County, Texas\n",
      "    └── COUNTRY:United States\n"
     ]
    }
   ],
   "source": [
    "# Visualize another interesting RDF tree\n",
    "tree = generate_tree(devel[565])\n",
    "print_tree(tree)"
   ]
  },
  {
   "cell_type": "markdown",
   "metadata": {},
   "source": [
    "### Collate statistics on DART"
   ]
  },
  {
   "cell_type": "code",
   "execution_count": 9,
   "metadata": {},
   "outputs": [],
   "source": [
    "# Function to traverse a DART file (loaded with load_dart) and\n",
    "# generate summary outputs.\n",
    "def compute_stats(data):\n",
    "    # Gather statistics as we traverse the dataset\n",
    "    stats = {\n",
    "        'triples': set(),\n",
    "\n",
    "        'subjects': [],\n",
    "        'predicates': [],\n",
    "        'objects': [],\n",
    "\n",
    "        'vocabulary': set(),\n",
    "        'srs': [],\n",
    "\n",
    "        'triples_per_tripleset': [],\n",
    "\n",
    "        'words_per_sr': [],\n",
    "        'sents_per_sr': [],\n",
    "\n",
    "        'sources': []\n",
    "    }\n",
    "    \n",
    "    # Traverse the dataset\n",
    "    for entry in data:\n",
    "        stats['triples_per_tripleset'].append(len(entry['tripleset']))\n",
    "\n",
    "        # Iterate through triples in tripleset\n",
    "        for triple in entry['tripleset']:\n",
    "            S, P, O = triple\n",
    "            stats['triples'].add(tuple(t.upper() for t in triple))\n",
    "\n",
    "            stats['subjects'].append(S)\n",
    "            stats['predicates'].append(P)\n",
    "            stats['objects'].append(O)\n",
    "\n",
    "        # Iterate through annotations\n",
    "        for annotation in entry['annotations']:\n",
    "            sr = annotation['text']\n",
    "            stats['srs'].append(sr)\n",
    "\n",
    "            words = word_tokenize(sr)\n",
    "            sents = sent_tokenize(sr)\n",
    "\n",
    "            stats['words_per_sr'].append(len(words))\n",
    "            stats['sents_per_sr'].append(len(sents))\n",
    "\n",
    "            for word in words:\n",
    "                stats['vocabulary'].add(word)\n",
    "    \n",
    "    # Return entities and summary statistics\n",
    "    entities = {\n",
    "        'subjects': stats['subjects'], \n",
    "        'predicates': stats['predicates'], \n",
    "        'objects': stats['objects'],\n",
    "        \n",
    "        'triples_per_tripleset': stats['triples_per_tripleset'],\n",
    "        \n",
    "        'words_per_sr': stats['words_per_sr'],\n",
    "        'sents_per_sr': stats['sents_per_sr'],\n",
    "\n",
    "        'sources': stats['sources']\n",
    "    }\n",
    "    results = {\n",
    "        '# triplesets': len(data),\n",
    "\n",
    "        '# unique subjects': n_unique_str(stats['subjects']),\n",
    "        '# unique predicates': n_unique_str(stats['predicates']),\n",
    "        '# unique objects': n_unique_str(stats['objects']),\n",
    "\n",
    "        \"# triples / tripleset\": describe(stats['triples_per_tripleset']),\n",
    "        \"# words / sr\": describe(stats['words_per_sr']),\n",
    "        \"# sents / sr\": describe(stats['sents_per_sr']),\n",
    "\n",
    "        \"# unique triples\": len(stats['triples']),\n",
    "        \"# unique words\": len(stats['vocabulary']),\n",
    "        \"# unique srs\": n_unique(stats['srs']),\n",
    "        \"# total srs\": len(stats['srs']),\n",
    "    }\n",
    "    \n",
    "    return entities, results"
   ]
  },
  {
   "cell_type": "code",
   "execution_count": 10,
   "metadata": {},
   "outputs": [],
   "source": [
    "splits_data = {x: load_dart(x) for x in SPLITS}\n",
    "processed = {k: compute_stats(v) for k, v in splits_data.items()}\n",
    "dart_statistics = pd.DataFrame({k: v[1] for k, v in processed.items()})"
   ]
  },
  {
   "cell_type": "code",
   "execution_count": 11,
   "metadata": {},
   "outputs": [
    {
     "data": {
      "text/html": [
       "<div>\n",
       "<style scoped>\n",
       "    .dataframe tbody tr th:only-of-type {\n",
       "        vertical-align: middle;\n",
       "    }\n",
       "\n",
       "    .dataframe tbody tr th {\n",
       "        vertical-align: top;\n",
       "    }\n",
       "\n",
       "    .dataframe thead th {\n",
       "        text-align: right;\n",
       "    }\n",
       "</style>\n",
       "<table border=\"1\" class=\"dataframe\">\n",
       "  <thead>\n",
       "    <tr style=\"text-align: right;\">\n",
       "      <th></th>\n",
       "      <th>train</th>\n",
       "      <th>dev</th>\n",
       "      <th>test</th>\n",
       "    </tr>\n",
       "  </thead>\n",
       "  <tbody>\n",
       "    <tr>\n",
       "      <th># triplesets</th>\n",
       "      <td>30526</td>\n",
       "      <td>2768</td>\n",
       "      <td>6959</td>\n",
       "    </tr>\n",
       "    <tr>\n",
       "      <th># unique subjects</th>\n",
       "      <td>9680</td>\n",
       "      <td>730</td>\n",
       "      <td>1120</td>\n",
       "    </tr>\n",
       "    <tr>\n",
       "      <th># unique predicates</th>\n",
       "      <td>4220</td>\n",
       "      <td>419</td>\n",
       "      <td>494</td>\n",
       "    </tr>\n",
       "    <tr>\n",
       "      <th># unique objects</th>\n",
       "      <td>18846</td>\n",
       "      <td>1679</td>\n",
       "      <td>2736</td>\n",
       "    </tr>\n",
       "    <tr>\n",
       "      <th># triples / tripleset</th>\n",
       "      <td>[1.0, 3.0, 3.38, 10.0]</td>\n",
       "      <td>[1.0, 4.0, 3.78, 8.0]</td>\n",
       "      <td>[1.0, 3.0, 3.43, 7.0]</td>\n",
       "    </tr>\n",
       "    <tr>\n",
       "      <th># words / sr</th>\n",
       "      <td>[1.0, 20.0, 20.96, 107.0]</td>\n",
       "      <td>[4.0, 23.0, 23.51, 81.0]</td>\n",
       "      <td>[0.0, 23.0, 23.43, 81.0]</td>\n",
       "    </tr>\n",
       "    <tr>\n",
       "      <th># sents / sr</th>\n",
       "      <td>[1.0, 1.0, 1.43, 9.0]</td>\n",
       "      <td>[1.0, 1.0, 1.58, 5.0]</td>\n",
       "      <td>[0.0, 1.0, 1.53, 6.0]</td>\n",
       "    </tr>\n",
       "    <tr>\n",
       "      <th># unique triples</th>\n",
       "      <td>29072</td>\n",
       "      <td>2289</td>\n",
       "      <td>3613</td>\n",
       "    </tr>\n",
       "    <tr>\n",
       "      <th># unique words</th>\n",
       "      <td>30192</td>\n",
       "      <td>5094</td>\n",
       "      <td>7187</td>\n",
       "    </tr>\n",
       "    <tr>\n",
       "      <th># unique srs</th>\n",
       "      <td>61520</td>\n",
       "      <td>6812</td>\n",
       "      <td>9952</td>\n",
       "    </tr>\n",
       "    <tr>\n",
       "      <th># total srs</th>\n",
       "      <td>62659</td>\n",
       "      <td>6980</td>\n",
       "      <td>12552</td>\n",
       "    </tr>\n",
       "  </tbody>\n",
       "</table>\n",
       "</div>"
      ],
      "text/plain": [
       "                                           train                       dev  \\\n",
       "# triplesets                               30526                      2768   \n",
       "# unique subjects                           9680                       730   \n",
       "# unique predicates                         4220                       419   \n",
       "# unique objects                           18846                      1679   \n",
       "# triples / tripleset     [1.0, 3.0, 3.38, 10.0]     [1.0, 4.0, 3.78, 8.0]   \n",
       "# words / sr           [1.0, 20.0, 20.96, 107.0]  [4.0, 23.0, 23.51, 81.0]   \n",
       "# sents / sr               [1.0, 1.0, 1.43, 9.0]     [1.0, 1.0, 1.58, 5.0]   \n",
       "# unique triples                           29072                      2289   \n",
       "# unique words                             30192                      5094   \n",
       "# unique srs                               61520                      6812   \n",
       "# total srs                                62659                      6980   \n",
       "\n",
       "                                           test  \n",
       "# triplesets                               6959  \n",
       "# unique subjects                          1120  \n",
       "# unique predicates                         494  \n",
       "# unique objects                           2736  \n",
       "# triples / tripleset     [1.0, 3.0, 3.43, 7.0]  \n",
       "# words / sr           [0.0, 23.0, 23.43, 81.0]  \n",
       "# sents / sr              [0.0, 1.0, 1.53, 6.0]  \n",
       "# unique triples                           3613  \n",
       "# unique words                             7187  \n",
       "# unique srs                               9952  \n",
       "# total srs                               12552  "
      ]
     },
     "execution_count": 11,
     "metadata": {},
     "output_type": "execute_result"
    }
   ],
   "source": [
    "dart_statistics"
   ]
  },
  {
   "cell_type": "markdown",
   "metadata": {},
   "source": [
    "### Distributions"
   ]
  },
  {
   "cell_type": "code",
   "execution_count": 12,
   "metadata": {},
   "outputs": [],
   "source": [
    "def make_field_distplot(field, processed, fn=sns.distplot):\n",
    "    cols = [\"split\", field]\n",
    "    df = pd.DataFrame([(x, processed[x][0][field]) for x in SPLITS], columns=cols)\n",
    "    df = df.explode(field)\n",
    "    g = sns.FacetGrid(df, col=\"split\", margin_titles=True)\n",
    "    g.map(fn, field)"
   ]
  },
  {
   "cell_type": "markdown",
   "metadata": {},
   "source": [
    "#### Triples per tripleset"
   ]
  },
  {
   "cell_type": "code",
   "execution_count": 13,
   "metadata": {},
   "outputs": [
    {
     "data": {
      "image/png": "[encoded data removed]",
      "text/plain": [
       "<Figure size 648x216 with 3 Axes>"
      ]
     },
     "metadata": {
      "needs_background": "light"
     },
     "output_type": "display_data"
    }
   ],
   "source": [
    "make_field_distplot(\"triples_per_tripleset\", processed, fn=sns.countplot)"
   ]
  },
  {
   "cell_type": "markdown",
   "metadata": {},
   "source": [
    "#### Words per surface realization"
   ]
  },
  {
   "cell_type": "code",
   "execution_count": 14,
   "metadata": {},
   "outputs": [
    {
     "data": {
      "image/png": "[encoded data removed]",
      "text/plain": [
       "<Figure size 648x216 with 3 Axes>"
      ]
     },
     "metadata": {
      "needs_background": "light"
     },
     "output_type": "display_data"
    }
   ],
   "source": [
    "make_field_distplot(\"words_per_sr\", processed)"
   ]
  },
  {
   "cell_type": "markdown",
   "metadata": {},
   "source": [
    "#### Sentences per surface realization"
   ]
  },
  {
   "cell_type": "code",
   "execution_count": 15,
   "metadata": {},
   "outputs": [
    {
     "data": {
      "image/png": "[encoded data removed]",
      "text/plain": [
       "<Figure size 648x216 with 3 Axes>"
      ]
     },
     "metadata": {
      "needs_background": "light"
     },
     "output_type": "display_data"
    }
   ],
   "source": [
    "make_field_distplot(\"sents_per_sr\", processed, fn=sns.countplot)"
   ]
  },
  {
   "cell_type": "markdown",
   "metadata": {},
   "source": [
    "### Triple entry overlap"
   ]
  },
  {
   "cell_type": "code",
   "execution_count": 16,
   "metadata": {},
   "outputs": [
    {
     "data": {
      "image/png": "[encoded data removed]",
      "text/plain": [
       "<Figure size 432x288 with 1 Axes>"
      ]
     },
     "metadata": {},
     "output_type": "display_data"
    }
   ],
   "source": [
    "# Subjects\n",
    "split_subjects = [set(processed[x][0]['subjects']) for x in SPLITS]\n",
    "venn3(subsets=split_subjects, set_labels=SPLITS)\n",
    "plt.show()"
   ]
  },
  {
   "cell_type": "code",
   "execution_count": 17,
   "metadata": {},
   "outputs": [
    {
     "data": {
      "image/png": "[encoded data removed]",
      "text/plain": [
       "<Figure size 432x288 with 1 Axes>"
      ]
     },
     "metadata": {},
     "output_type": "display_data"
    }
   ],
   "source": [
    "# Predicates\n",
    "split_predicates = [set(processed[x][0]['predicates']) for x in SPLITS]\n",
    "venn3(subsets=split_predicates, set_labels=SPLITS)\n",
    "plt.show()"
   ]
  },
  {
   "cell_type": "code",
   "execution_count": 18,
   "metadata": {},
   "outputs": [
    {
     "data": {
      "image/png": "[encoded data removed]",
      "text/plain": [
       "<Figure size 432x288 with 1 Axes>"
      ]
     },
     "metadata": {},
     "output_type": "display_data"
    }
   ],
   "source": [
    "# Objects\n",
    "split_objects = [set(processed[x][0]['objects']) for x in SPLITS]\n",
    "venn3(subsets=split_objects, set_labels=SPLITS)\n",
    "plt.show()"
   ]
  }
 ],
 "metadata": {
  "kernelspec": {
   "display_name": "Python 3",
   "language": "python",
   "name": "python3"
  },
  "language_info": {
   "codemirror_mode": {
    "name": "ipython",
    "version": 3
   },
   "file_extension": ".py",
   "mimetype": "text/x-python",
   "name": "python",
   "nbconvert_exporter": "python",
   "pygments_lexer": "ipython3",
   "version": "3.7.5"
  }
 },
 "nbformat": 4,
 "nbformat_minor": 4
}
